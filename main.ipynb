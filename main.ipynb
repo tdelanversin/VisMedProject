{
 "cells": [
  {
   "cell_type": "code",
   "execution_count": 14,
   "metadata": {},
   "outputs": [
    {
     "name": "stdout",
     "output_type": "stream",
     "text": [
      "Files already downloaded and verified\n"
     ]
    }
   ],
   "source": [
    "import torch\n",
    "import torch.nn as nn\n",
    "import torch.nn.functional as F\n",
    "from torchvision.models import alexnet\n",
    "from torchvision import datasets\n",
    "from collections import OrderedDict\n",
    "\n",
    "from fftKAN import NaiveFourierKANLayer\n",
    "\n",
    "# Import the CIFAR-10 dataset\n",
    "datasets.CIFAR10(root='./data', train=True, download=True)\n",
    "\n",
    "# Create the AlexNet model\n",
    "model = alexnet()\n",
    "\n",
    "features = nn.Sequential(\n",
    "    nn.Conv2d(3, 64, kernel_size=11, stride=4, padding=2),\n",
    "    nn.ReLU(inplace=True),\n",
    "    nn.MaxPool2d(kernel_size=3, stride=2),\n",
    "    nn.Conv2d(64, 192, kernel_size=5, padding=2),\n",
    "    nn.ReLU(inplace=True),\n",
    "    nn.MaxPool2d(kernel_size=3, stride=2),\n",
    "    nn.Conv2d(192, 384, kernel_size=3, padding=1),\n",
    "    nn.ReLU(inplace=True),\n",
    "    nn.Conv2d(384, 256, kernel_size=3, padding=1),\n",
    "    nn.ReLU(inplace=True),\n",
    "    nn.Conv2d(256, 256, kernel_size=3, padding=1),\n",
    "    nn.ReLU(inplace=True),\n",
    "    nn.MaxPool2d(kernel_size=3, stride=2),\n",
    ")\n",
    "avgpool = nn.AdaptiveAvgPool2d((6, 6))\n",
    "classifier = nn.Sequential(\n",
    "    nn.Dropout(),\n",
    "    NaiveFourierKANLayer(256 * 6 * 6, 1000, gridsize=50),\n",
    "    nn.Dropout(),\n",
    "    NaiveFourierKANLayer(1000, 1000, gridsize=100),\n",
    "    NaiveFourierKANLayer(1000, 1000, gridsize=100),\n",
    ")\n",
    "handmade_model = nn.Sequential(OrderedDict([\n",
    "    ('features', features),\n",
    "    ('avgpool', avgpool),\n",
    "    ('classifier', classifier)\n",
    "]))"
   ]
  },
  {
   "cell_type": "code",
   "execution_count": null,
   "metadata": {},
   "outputs": [],
   "source": []
  }
 ],
 "metadata": {
  "kernelspec": {
   "display_name": "vmp",
   "language": "python",
   "name": "python3"
  },
  "language_info": {
   "codemirror_mode": {
    "name": "ipython",
    "version": 3
   },
   "file_extension": ".py",
   "mimetype": "text/x-python",
   "name": "python",
   "nbconvert_exporter": "python",
   "pygments_lexer": "ipython3",
   "version": "3.8.19"
  }
 },
 "nbformat": 4,
 "nbformat_minor": 2
}
