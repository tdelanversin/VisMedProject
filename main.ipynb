{
 "cells": [
  {
   "cell_type": "code",
   "execution_count": 14,
   "metadata": {},
   "outputs": [
    {
     "name": "stdout",
     "output_type": "stream",
     "text": [
      "The autoreload extension is already loaded. To reload it, use:\n",
      "  %reload_ext autoreload\n",
      "Files already downloaded and verified\n",
      "Files already downloaded and verified\n",
      "Files already downloaded and verified\n"
     ]
    }
   ],
   "source": [
    "%load_ext autoreload\n",
    "%autoreload 2\n",
    "\n",
    "import torch\n",
    "import torch.nn as nn\n",
    "import torch.nn.functional as F\n",
    "import torchvision.transforms as transforms\n",
    "from torchvision.models import alexnet\n",
    "import torchvision\n",
    "from torchvision import datasets\n",
    "from collections import OrderedDict\n",
    "from tqdm import tqdm\n",
    "\n",
    "from fftKAN import NaiveFourierKANLayer\n",
    "from fftKANConv import NaiveFourierKANConv\n",
    "\n",
    "# Import the CIFAR-10 dataset\n",
    "datasets.CIFAR10(root='./data', train=True, download=True)\n",
    "\n",
    "# Create the comvolutions and avgpool adapted for a 32*32 input size\n",
    "\n",
    "def get_model():\n",
    "\n",
    "    features = nn.Sequential(\n",
    "        nn.Conv2d(3, 64, kernel_size=3, stride=1, padding=1),\n",
    "        nn.ReLU(inplace=True),\n",
    "        nn.MaxPool2d(kernel_size=2, stride=2),\n",
    "        nn.Conv2d(64, 192, kernel_size=3, padding=1),\n",
    "        nn.ReLU(inplace=True),\n",
    "        nn.MaxPool2d(kernel_size=2, stride=2),\n",
    "        nn.Conv2d(192, 384, kernel_size=3, padding=1),\n",
    "        nn.ReLU(inplace=True),\n",
    "        nn.Conv2d(384, 256, kernel_size=3, padding=1),\n",
    "        nn.ReLU(inplace=True),\n",
    "        nn.Conv2d(256, 256, kernel_size=3, padding=1),\n",
    "        nn.ReLU(inplace=True),\n",
    "        nn.MaxPool2d(kernel_size=2, stride=2)\n",
    "    )\n",
    "    features_KAN = nn.Sequential(\n",
    "        nn.Conv2d(3, 64, kernel_size=3, stride=2, padding=1),\n",
    "        NaiveFourierKANConv(64, 64, gridsize=3, smooth_initialization=True),\n",
    "        nn.MaxPool2d(kernel_size=2, stride=2),\n",
    "        nn.Conv2d(64, 192, kernel_size=3, padding=1),\n",
    "        NaiveFourierKANConv(192, 192, gridsize=3, smooth_initialization=True),\n",
    "        nn.MaxPool2d(kernel_size=2, stride=2),\n",
    "        nn.Conv2d(192, 256, kernel_size=3, padding=1),\n",
    "        NaiveFourierKANConv(256, 256, gridsize=3, smooth_initialization=True),\n",
    "    )\n",
    "    avgpool = nn.AdaptiveAvgPool2d((4, 4))\n",
    "    classifier_AlexNet = nn.Sequential(\n",
    "        nn.Flatten(),\n",
    "        nn.Dropout(),\n",
    "        nn.Linear(256 * 4 * 4, 4096),\n",
    "        nn.ReLU(inplace=True),\n",
    "        nn.Dropout(),\n",
    "        nn.Linear(4096, 4096),\n",
    "        nn.ReLU(inplace=True),\n",
    "        nn.Linear(4096, 10),\n",
    "        nn.LogSoftmax(dim=1)\n",
    "    )\n",
    "    classifier_KAN = nn.Sequential(\n",
    "        nn.Flatten(),\n",
    "        nn.Dropout(),\n",
    "        NaiveFourierKANLayer(256 * 4 * 4, 100, gridsize=7, smooth_initialization=True),\n",
    "        nn.Dropout(),\n",
    "        NaiveFourierKANLayer(100, 10, gridsize=5, smooth_initialization=True),\n",
    "        nn.LogSoftmax(dim=1)\n",
    "    )\n",
    "\n",
    "    AlexNet_model = nn.Sequential(OrderedDict([\n",
    "        ('features', features),\n",
    "        ('avgpool', avgpool),\n",
    "        ('classifier', classifier_AlexNet)\n",
    "    ]))\n",
    "    KAN_model = nn.Sequential(OrderedDict([\n",
    "        ('features', features),\n",
    "        ('avgpool', avgpool),\n",
    "        ('classifier', classifier_KAN)\n",
    "    ]))\n",
    "\n",
    "    FullKAN_model = nn.Sequential(OrderedDict([\n",
    "        ('features', features_KAN),\n",
    "        ('avgpool', avgpool),\n",
    "        ('classifier', classifier_KAN)\n",
    "    ]))\n",
    "\n",
    "    return AlexNet_model, KAN_model, FullKAN_model\n",
    "\n",
    "def show_layers(model):\n",
    "    size = 32, 32, 3\n",
    "    print(\"Initial size:\", size)\n",
    "\n",
    "    for layer in [*model.features, model.avgpool, *model.classifier]:\n",
    "        print(\" \", end=\"\")\n",
    "        if isinstance(layer, nn.Conv2d):\n",
    "            size = (size[0] - layer.kernel_size[0] + 2 * layer.padding[0]) // layer.stride[0] + 1, \\\n",
    "                (size[1] - layer.kernel_size[1] + 2 * layer.padding[1]) // layer.stride[1] + 1, \\\n",
    "                layer.out_channels\n",
    "            print(\"Conv to:\", size)\n",
    "        if isinstance(layer, nn.MaxPool2d):\n",
    "            size = (size[0] - layer.kernel_size) // layer.stride + 1, \\\n",
    "                (size[1] - layer.kernel_size) // layer.stride + 1, \\\n",
    "                size[2]\n",
    "            print(\"Pool to:\", size)\n",
    "        if isinstance(layer, nn.ReLU):\n",
    "            print(\"ReLU\")\n",
    "        if isinstance(layer, nn.AdaptiveAvgPool2d):\n",
    "            size = layer.output_size[0], layer.output_size[1], size[2]\n",
    "            print(\"AvgP to:\", size)\n",
    "        if isinstance(layer, nn.Flatten):\n",
    "            size = size[0] * size[1] * size[2]\n",
    "            print(\"Flat to:\", size)\n",
    "        if isinstance(layer, nn.Linear):\n",
    "            size = layer.out_features\n",
    "            print(\"Lin. to:\", size)\n",
    "        if isinstance(layer, NaiveFourierKANLayer):\n",
    "            size = layer.outdim\n",
    "            print(\"KAN to: \", size)\n",
    "        if isinstance(layer, NaiveFourierKANConv):\n",
    "            size = *size[:-1], layer.outdim\n",
    "            print(\"KANConv to: \", size)\n",
    "\n",
    "transform = transforms.Compose(\n",
    "    [transforms.ToTensor(),\n",
    "     transforms.Normalize((0.5, 0.5, 0.5), (0.5, 0.5, 0.5))])\n",
    "\n",
    "batch_size = 4\n",
    "\n",
    "trainset = torchvision.datasets.CIFAR10(root='./data', train=True, download=True, transform=transform)\n",
    "trainloader = torch.utils.data.DataLoader(trainset, batch_size=batch_size, shuffle=True, num_workers=2)\n",
    "\n",
    "testset = torchvision.datasets.CIFAR10(root='./data', train=False, download=True, transform=transform)\n",
    "testloader = torch.utils.data.DataLoader(testset, batch_size=batch_size, shuffle=False, num_workers=2)\n",
    "\n",
    "classes = ('plane', 'car', 'bird', 'cat',\n",
    "           'deer', 'dog', 'frog', 'horse', 'ship', 'truck')"
   ]
  },
  {
   "cell_type": "code",
   "execution_count": 15,
   "metadata": {},
   "outputs": [
    {
     "name": "stdout",
     "output_type": "stream",
     "text": [
      "35855178 \t AlexNet parameters\n",
      "7996094 \t KAN parameters\n",
      "6939198 \t Full KAN parameters\n",
      "\n",
      "33603594 \t AlexNet classifier parameters\n",
      "5744510 \t KAN classifier parameters\n",
      "5744510 \t Full KAN classifier parameters\n",
      "\n",
      "2251584 \t AlexNet features parameters\n",
      "2251584 \t KAN features parameters\n",
      "1194688 \t Full KAN features parameters\n",
      "\n",
      "AlexNet\n",
      "Initial size: (32, 32, 3)\n",
      " Conv to: (32, 32, 64)\n",
      " ReLU\n",
      " Pool to: (16, 16, 64)\n",
      " Conv to: (16, 16, 192)\n",
      " ReLU\n",
      " Pool to: (8, 8, 192)\n",
      " Conv to: (8, 8, 384)\n",
      " ReLU\n",
      " Conv to: (8, 8, 256)\n",
      " ReLU\n",
      " Conv to: (8, 8, 256)\n",
      " ReLU\n",
      " Pool to: (4, 4, 256)\n",
      " AvgP to: (4, 4, 256)\n",
      " Flat to: 4096\n",
      "  Lin. to: 4096\n",
      " ReLU\n",
      "  Lin. to: 4096\n",
      " ReLU\n",
      " Lin. to: 10\n",
      " \n",
      "KAN\n",
      "Initial size: (32, 32, 3)\n",
      " Conv to: (32, 32, 64)\n",
      " ReLU\n",
      " Pool to: (16, 16, 64)\n",
      " Conv to: (16, 16, 192)\n",
      " ReLU\n",
      " Pool to: (8, 8, 192)\n",
      " Conv to: (8, 8, 384)\n",
      " ReLU\n",
      " Conv to: (8, 8, 256)\n",
      " ReLU\n",
      " Conv to: (8, 8, 256)\n",
      " ReLU\n",
      " Pool to: (4, 4, 256)\n",
      " AvgP to: (4, 4, 256)\n",
      " Flat to: 4096\n",
      "  KAN to:  100\n",
      "  KAN to:  10\n",
      " \n",
      "Full KAN\n",
      "Initial size: (32, 32, 3)\n",
      " Conv to: (16, 16, 64)\n",
      " KANConv to:  (16, 16, 64)\n",
      " Pool to: (8, 8, 64)\n",
      " Conv to: (8, 8, 192)\n",
      " KANConv to:  (8, 8, 192)\n",
      " Pool to: (4, 4, 192)\n",
      " Conv to: (4, 4, 256)\n",
      " KANConv to:  (4, 4, 256)\n",
      " AvgP to: (4, 4, 256)\n",
      " Flat to: 4096\n",
      "  KAN to:  100\n",
      "  KAN to:  10\n",
      " "
     ]
    }
   ],
   "source": [
    "model, KAN_model, FullKAN_model = get_model()\n",
    "\n",
    "# Print the number of parameters of the full models\n",
    "print(sum(p.numel() for p in model.parameters()), \"\\t AlexNet parameters\")\n",
    "print(sum(p.numel() for p in KAN_model.parameters()), \"\\t KAN parameters\")\n",
    "print(sum(p.numel() for p in FullKAN_model.parameters()), \"\\t Full KAN parameters\")\n",
    "\n",
    "print()\n",
    "\n",
    "# Print the number of parameters of the classifiers\n",
    "print(sum(p.numel() for p in model.classifier.parameters()), \"\\t AlexNet classifier parameters\")\n",
    "print(sum(p.numel() for p in KAN_model.classifier.parameters()), \"\\t KAN classifier parameters\")\n",
    "print(sum(p.numel() for p in FullKAN_model.classifier.parameters()), \"\\t Full KAN classifier parameters\")\n",
    "\n",
    "print()\n",
    "\n",
    "# Print the number of parameters of the features\n",
    "print(sum(p.numel() for p in model.features.parameters()), \"\\t AlexNet features parameters\")\n",
    "print(sum(p.numel() for p in KAN_model.features.parameters()), \"\\t KAN features parameters\")\n",
    "print(sum(p.numel() for p in FullKAN_model.features.parameters()), \"\\t Full KAN features parameters\")\n",
    "\n",
    "# Print the size of the layers\n",
    "print(\"\\nAlexNet\")\n",
    "show_layers(model)\n",
    "\n",
    "print(\"\\nKAN\")\n",
    "show_layers(KAN_model)\n",
    "\n",
    "print(\"\\nFull KAN\")\n",
    "show_layers(FullKAN_model)"
   ]
  },
  {
   "cell_type": "code",
   "execution_count": null,
   "metadata": {},
   "outputs": [],
   "source": [
    "# Train the AlexNet model\n",
    "model, _, _ = get_model()\n",
    "criterion = nn.CrossEntropyLoss()\n",
    "optimizer = torch.optim.SGD(model.parameters(), lr=0.01)\n",
    "pbar = tqdm(range(10)) \n",
    "for epoch in pbar:\n",
    "    for i, data in enumerate(trainloader, 0):\n",
    "        inputs, labels = data\n",
    "        optimizer.zero_grad()\n",
    "        outputs = model(inputs)\n",
    "        loss = criterion(outputs, labels)\n",
    "        loss.backward()\n",
    "        optimizer.step()\n",
    "        pbar.set_description(f'AlexNet Loss: {loss:02f}')\n",
    "    torch.save(model.state_dict(), \"alexnet_cifar10.pth\")\n",
    "\n",
    "torch.save(model.state_dict(), \"alexnet_cifar10.pth\")"
   ]
  },
  {
   "cell_type": "code",
   "execution_count": 21,
   "metadata": {},
   "outputs": [
    {
     "name": "stdout",
     "output_type": "stream",
     "text": [
      "Accuracy of the network on the 10000 test images: 79.92%\n",
      "Accuracy of plane: 82.2%\n",
      "Accuracy of car: 84.3%\n",
      "Accuracy of bird: 75.3%\n",
      "Accuracy of cat: 60.1%\n",
      "Accuracy of deer: 75.3%\n",
      "Accuracy of dog: 70.3%\n",
      "Accuracy of frog: 89.2%\n",
      "Accuracy of horse: 85.8%\n",
      "Accuracy of ship: 88.1%\n",
      "Accuracy of truck: 91.2%\n"
     ]
    }
   ],
   "source": [
    "# Load model\n",
    "model, _, _ = get_model()\n",
    "model.load_state_dict(torch.load(\"alexnet_cifar10.pth\"))\n",
    "\n",
    "# Accuracy of the AlexNet model\n",
    "correct = 0\n",
    "total = 0\n",
    "with torch.no_grad():\n",
    "    for data in testloader:\n",
    "        images, labels = data\n",
    "        outputs = model(images)\n",
    "        _, predicted = torch.max(outputs.data, 1)\n",
    "        total += labels.size(0)\n",
    "        correct += (predicted == labels).sum().item()\n",
    "\n",
    "print(f'Accuracy of the network on the 10000 test images: {100 * correct / total}%')\n",
    "\n",
    "# Accuracy of the AlexNet model per class\n",
    "class_correct = list(0. for i in range(10))\n",
    "class_total = list(0. for i in range(10))\n",
    "with torch.no_grad():\n",
    "    for data in testloader:\n",
    "        images, labels = data\n",
    "        outputs = model(images)\n",
    "        _, predicted = torch.max(outputs, 1)\n",
    "        c = (predicted == labels).squeeze()\n",
    "        for i in range(4):\n",
    "            label = labels[i]\n",
    "            class_correct[label] += c[i].item()\n",
    "            class_total[label] += 1\n",
    "\n",
    "for i in range(10):\n",
    "    print(f'Accuracy of {classes[i]}: {100 * class_correct[i] / class_total[i]}%')"
   ]
  },
  {
   "cell_type": "code",
   "execution_count": 10,
   "metadata": {},
   "outputs": [
    {
     "name": "stderr",
     "output_type": "stream",
     "text": [
      "KAN Loss: 0.070824, weight mean: -0.000004: 100%|██████████| 10/10 [4:53:11<00:00, 1759.19s/it] \n"
     ]
    }
   ],
   "source": [
    "alexnet, model, _ = get_model()\n",
    "\n",
    "# Use pretrained AlexNet model to initialize the KAN model\n",
    "alexnet.load_state_dict(torch.load(\"alexnet_cifar10.pth\"))\n",
    "model.features = alexnet.features\n",
    "model.avgpool = alexnet.avgpool\n",
    "\n",
    "criterion = nn.CrossEntropyLoss()\n",
    "optimizer = torch.optim.SGD(model.parameters(), lr=0.01)\n",
    "pbar = tqdm(range(10))\n",
    "for epoch in pbar:\n",
    "    for i, data in enumerate(trainloader, 0):\n",
    "        inputs, labels = data\n",
    "        optimizer.zero_grad()\n",
    "        outputs = model(inputs)\n",
    "        loss = criterion(outputs, labels)\n",
    "        loss.backward()\n",
    "        # We need to clip the grad norms to avoid exploding gradients\n",
    "        torch.nn.utils.clip_grad_norm_(model.parameters(), 0.5)\n",
    "        optimizer.step()\n",
    "        pbar.set_description(f'KAN Loss: {loss:02f}, weight mean: {model.classifier[2].fouriercoeffs.mean():02f}')\n",
    "    torch.save(model.state_dict(), \"kan_cifar10.pth\")\n",
    "\n",
    "torch.save(model.state_dict(), \"kan_cifar10.pth\")"
   ]
  },
  {
   "cell_type": "code",
   "execution_count": 6,
   "metadata": {},
   "outputs": [
    {
     "name": "stdout",
     "output_type": "stream",
     "text": [
      "Accuracy of the network on the 10000 test images: 81.85%\n"
     ]
    }
   ],
   "source": [
    "# Load model\n",
    "_, model, _ = get_model()\n",
    "model.load_state_dict(torch.load(\"kan_cifar10.pth\"))\n",
    "\n",
    "# Accuracy of the KAN model\n",
    "correct = 0\n",
    "total = 0\n",
    "with torch.no_grad():\n",
    "    for data in testloader:\n",
    "        images, labels = data\n",
    "        outputs = model(images)\n",
    "        _, predicted = torch.max(outputs.data, 1)\n",
    "        total += labels.size(0)\n",
    "        correct += (predicted == labels).sum().item()\n",
    "\n",
    "print(f'Accuracy of the network on the 10000 test images: {100 * correct / total}%')\n",
    "\n",
    "# Accuracy of the KAN model per class\n",
    "class_correct = list(0. for i in range(10))\n",
    "class_total = list(0. for i in range(10))\n",
    "with torch.no_grad():\n",
    "    for data in testloader:\n",
    "        images, labels = data\n",
    "        outputs = model(images)\n",
    "        _, predicted = torch.max(outputs, 1)\n",
    "        c = (predicted == labels).squeeze()\n",
    "        for i in range(4):\n",
    "            label = labels[i]\n",
    "            class_correct[label] += c[i].item()\n",
    "            class_total[label] += 1\n",
    "\n",
    "for i in range(10):\n",
    "    print(f'Accuracy of {classes[i]}: {100 * class_correct[i] / class_total[i]}%')"
   ]
  },
  {
   "cell_type": "code",
   "execution_count": 7,
   "metadata": {},
   "outputs": [
    {
     "name": "stdout",
     "output_type": "stream",
     "text": [
      "Accuracy of the network on the 10000 test images: 81.85%\n",
      "Accuracy of plane: 87.1%\n",
      "Accuracy of car: 90.1%\n",
      "Accuracy of bird: 67.8%\n",
      "Accuracy of cat: 65.4%\n",
      "Accuracy of deer: 86.7%\n",
      "Accuracy of dog: 71.8%\n",
      "Accuracy of frog: 85.8%\n",
      "Accuracy of horse: 81.0%\n",
      "Accuracy of ship: 88.5%\n",
      "Accuracy of truck: 87.8%\n"
     ]
    }
   ],
   "source": [
    "print(f'Accuracy of the network on the 10000 test images: {100 * correct / total}%')\n",
    "for i in range(10):\n",
    "    print(f'Accuracy of {classes[i]}: {100 * class_correct[i] / class_total[i]}%')"
   ]
  },
  {
   "cell_type": "code",
   "execution_count": 16,
   "metadata": {},
   "outputs": [
    {
     "name": "stderr",
     "output_type": "stream",
     "text": [
      "Full KAN Loss: 2.750406, weight mean: 0.000002:   0%|          | 0/10 [30:49<?, ?it/s] "
     ]
    }
   ],
   "source": [
    "# Train the Full KAN model\n",
    "_, _, model = get_model()\n",
    "criterion = nn.CrossEntropyLoss()\n",
    "optimizer = torch.optim.SGD(model.parameters(), lr=0.01)\n",
    "pbar = tqdm(range(10))\n",
    "for epoch in pbar:\n",
    "    for i, data in enumerate(trainloader, 0):\n",
    "        inputs, labels = data\n",
    "        optimizer.zero_grad()\n",
    "        outputs = model(inputs)\n",
    "        loss = criterion(outputs, labels)\n",
    "        loss.backward()\n",
    "        # We need to clip the grad norms to avoid exploding gradients\n",
    "        torch.nn.utils.clip_grad_norm_(model.parameters(), 0.5)\n",
    "        optimizer.step()\n",
    "        pbar.set_description(f'Full KAN Loss: {loss:02f}, weight mean: {model.classifier[2].fouriercoeffs.mean():02f}')\n",
    "    torch.save(model.state_dict(), \"fullkan_cifar10.pth\")\n",
    "\n",
    "torch.save(model.state_dict(), \"fullkan_cifar10.pth\")"
   ]
  },
  {
   "cell_type": "code",
   "execution_count": null,
   "metadata": {},
   "outputs": [],
   "source": [
    "# Load model\n",
    "_, _, model = get_model()\n",
    "model.load_state_dict(torch.load(\"fullkan_cifar10.pth\"))\n",
    "\n",
    "# Accuracy of the Full KAN model\n",
    "correct = 0\n",
    "total = 0\n",
    "class_correct = list(0. for i in range(10))\n",
    "class_total = list(0. for i in range(10))\n",
    "with torch.no_grad():\n",
    "    for data in testloader:\n",
    "        images, labels = data\n",
    "        outputs = model(images)\n",
    "        _, predicted = torch.max(outputs.data, 1)\n",
    "        total += labels.size(0)\n",
    "        correct += (predicted == labels).sum().item()\n",
    "        c = (predicted == labels).squeeze()\n",
    "        for i in range(4):\n",
    "            label = labels[i]\n",
    "            class_correct[label] += c[i].item()\n",
    "            class_total[label] += 1\n",
    "\n",
    "print(f'Accuracy of the network on the 10000 test images: {100 * correct / total}%')"
   ]
  },
  {
   "cell_type": "code",
   "execution_count": 30,
   "metadata": {},
   "outputs": [
    {
     "data": {
      "application/vnd.plotly.v1+json": {
       "config": {
        "plotlyServerURL": "https://plot.ly"
       },
       "data": [
        {
         "hovertemplate": "x=%{x}<br>y=%{y}<extra></extra>",
         "legendgroup": "",
         "line": {
          "color": "#636efa",
          "dash": "solid"
         },
         "marker": {
          "symbol": "circle"
         },
         "mode": "lines",
         "name": "",
         "orientation": "v",
         "showlegend": false,
         "type": "scatter",
         "x": [
          -4,
          -3.799999952316284,
          -3.5999999046325684,
          -3.4000000953674316,
          -3.200000047683716,
          -3,
          -2.799999952316284,
          -2.5999999046325684,
          -2.4000000953674316,
          -2.200000047683716,
          -2,
          -1.8000000715255737,
          -1.6000001430511475,
          -1.4000000953674316,
          -1.2000000476837158,
          -1.0000001192092896,
          -0.800000011920929,
          -0.6000000238418579,
          -0.4000000059604645,
          -0.20000000298023224,
          0,
          0.20000000298023224,
          0.4000000059604645,
          0.6000000238418579,
          0.800000011920929,
          1,
          1.2000000476837158,
          1.399999976158142,
          1.600000023841858,
          1.8000000715255737,
          2,
          2.200000047683716,
          2.4000000953674316,
          2.6000001430511475,
          2.8000001907348633,
          3,
          3.200000047683716,
          3.4000000953674316,
          3.6000001430511475,
          3.8000001907348633,
          4,
          4.199999809265137,
          4.400000095367432,
          4.599999904632568,
          4.800000190734863,
          5,
          5.199999809265137,
          5.400000095367432,
          5.599999904632568,
          5.800000190734863,
          6,
          6.199999809265137,
          6.400000095367432,
          6.599999904632568,
          6.800000190734863,
          7,
          7.199999809265137,
          7.400000095367432,
          7.599999904632568,
          7.800000190734863
         ],
         "xaxis": "x",
         "y": [
          0,
          0,
          0,
          0,
          0,
          0,
          0.4661777913570404,
          0.6894222497940063,
          0.7067999839782715,
          0.5553777813911438,
          0.27222228050231934,
          -0.10559989511966705,
          -0.5410219430923462,
          -0.9969775676727295,
          -1.4363999366760254,
          -1.8222218751907349,
          -2.1249778270721436,
          -2.345600128173828,
          -2.4926223754882812,
          -2.574578046798706,
          -2.6000001430511475,
          -2.5769996643066406,
          -2.51200008392334,
          -2.4110000133514404,
          -2.2800002098083496,
          -2.125000238418579,
          -1.9520000219345093,
          -1.7669999599456787,
          -1.5759999752044678,
          -1.3849997520446777,
          -1.2000000476837158,
          -1.0247331857681274,
          -0.8538665771484375,
          -0.6797998547554016,
          -0.4949331283569336,
          -0.2916666865348816,
          -0.06239995360374451,
          0.2004668116569519,
          0.5045335292816162,
          0.8574004173278809,
          1.2666666507720947,
          1.7294217348098755,
          2.200711250305176,
          2.6250662803649902,
          2.9470224380493164,
          3.111111640930176,
          3.07800030708313,
          2.8728888034820557,
          2.5371110439300537,
          2.111999750137329,
          1.6388890743255615,
          1.1591116189956665,
          0.7139998078346252,
          0.3448890149593353,
          0.09311094135046005,
          0,
          0,
          0,
          0,
          0
         ],
         "yaxis": "y"
        },
        {
         "mode": "markers+lines",
         "type": "scatter",
         "x": [
          -3,
          -1,
          0,
          2,
          4,
          5,
          7
         ],
         "y": [
          0,
          2,
          -2,
          -3,
          -1,
          0,
          5
         ]
        }
       ],
       "layout": {
        "legend": {
         "tracegroupgap": 0
        },
        "margin": {
         "t": 60
        },
        "template": {
         "data": {
          "bar": [
           {
            "error_x": {
             "color": "#2a3f5f"
            },
            "error_y": {
             "color": "#2a3f5f"
            },
            "marker": {
             "line": {
              "color": "#E5ECF6",
              "width": 0.5
             },
             "pattern": {
              "fillmode": "overlay",
              "size": 10,
              "solidity": 0.2
             }
            },
            "type": "bar"
           }
          ],
          "barpolar": [
           {
            "marker": {
             "line": {
              "color": "#E5ECF6",
              "width": 0.5
             },
             "pattern": {
              "fillmode": "overlay",
              "size": 10,
              "solidity": 0.2
             }
            },
            "type": "barpolar"
           }
          ],
          "carpet": [
           {
            "aaxis": {
             "endlinecolor": "#2a3f5f",
             "gridcolor": "white",
             "linecolor": "white",
             "minorgridcolor": "white",
             "startlinecolor": "#2a3f5f"
            },
            "baxis": {
             "endlinecolor": "#2a3f5f",
             "gridcolor": "white",
             "linecolor": "white",
             "minorgridcolor": "white",
             "startlinecolor": "#2a3f5f"
            },
            "type": "carpet"
           }
          ],
          "choropleth": [
           {
            "colorbar": {
             "outlinewidth": 0,
             "ticks": ""
            },
            "type": "choropleth"
           }
          ],
          "contour": [
           {
            "colorbar": {
             "outlinewidth": 0,
             "ticks": ""
            },
            "colorscale": [
             [
              0,
              "#0d0887"
             ],
             [
              0.1111111111111111,
              "#46039f"
             ],
             [
              0.2222222222222222,
              "#7201a8"
             ],
             [
              0.3333333333333333,
              "#9c179e"
             ],
             [
              0.4444444444444444,
              "#bd3786"
             ],
             [
              0.5555555555555556,
              "#d8576b"
             ],
             [
              0.6666666666666666,
              "#ed7953"
             ],
             [
              0.7777777777777778,
              "#fb9f3a"
             ],
             [
              0.8888888888888888,
              "#fdca26"
             ],
             [
              1,
              "#f0f921"
             ]
            ],
            "type": "contour"
           }
          ],
          "contourcarpet": [
           {
            "colorbar": {
             "outlinewidth": 0,
             "ticks": ""
            },
            "type": "contourcarpet"
           }
          ],
          "heatmap": [
           {
            "colorbar": {
             "outlinewidth": 0,
             "ticks": ""
            },
            "colorscale": [
             [
              0,
              "#0d0887"
             ],
             [
              0.1111111111111111,
              "#46039f"
             ],
             [
              0.2222222222222222,
              "#7201a8"
             ],
             [
              0.3333333333333333,
              "#9c179e"
             ],
             [
              0.4444444444444444,
              "#bd3786"
             ],
             [
              0.5555555555555556,
              "#d8576b"
             ],
             [
              0.6666666666666666,
              "#ed7953"
             ],
             [
              0.7777777777777778,
              "#fb9f3a"
             ],
             [
              0.8888888888888888,
              "#fdca26"
             ],
             [
              1,
              "#f0f921"
             ]
            ],
            "type": "heatmap"
           }
          ],
          "heatmapgl": [
           {
            "colorbar": {
             "outlinewidth": 0,
             "ticks": ""
            },
            "colorscale": [
             [
              0,
              "#0d0887"
             ],
             [
              0.1111111111111111,
              "#46039f"
             ],
             [
              0.2222222222222222,
              "#7201a8"
             ],
             [
              0.3333333333333333,
              "#9c179e"
             ],
             [
              0.4444444444444444,
              "#bd3786"
             ],
             [
              0.5555555555555556,
              "#d8576b"
             ],
             [
              0.6666666666666666,
              "#ed7953"
             ],
             [
              0.7777777777777778,
              "#fb9f3a"
             ],
             [
              0.8888888888888888,
              "#fdca26"
             ],
             [
              1,
              "#f0f921"
             ]
            ],
            "type": "heatmapgl"
           }
          ],
          "histogram": [
           {
            "marker": {
             "pattern": {
              "fillmode": "overlay",
              "size": 10,
              "solidity": 0.2
             }
            },
            "type": "histogram"
           }
          ],
          "histogram2d": [
           {
            "colorbar": {
             "outlinewidth": 0,
             "ticks": ""
            },
            "colorscale": [
             [
              0,
              "#0d0887"
             ],
             [
              0.1111111111111111,
              "#46039f"
             ],
             [
              0.2222222222222222,
              "#7201a8"
             ],
             [
              0.3333333333333333,
              "#9c179e"
             ],
             [
              0.4444444444444444,
              "#bd3786"
             ],
             [
              0.5555555555555556,
              "#d8576b"
             ],
             [
              0.6666666666666666,
              "#ed7953"
             ],
             [
              0.7777777777777778,
              "#fb9f3a"
             ],
             [
              0.8888888888888888,
              "#fdca26"
             ],
             [
              1,
              "#f0f921"
             ]
            ],
            "type": "histogram2d"
           }
          ],
          "histogram2dcontour": [
           {
            "colorbar": {
             "outlinewidth": 0,
             "ticks": ""
            },
            "colorscale": [
             [
              0,
              "#0d0887"
             ],
             [
              0.1111111111111111,
              "#46039f"
             ],
             [
              0.2222222222222222,
              "#7201a8"
             ],
             [
              0.3333333333333333,
              "#9c179e"
             ],
             [
              0.4444444444444444,
              "#bd3786"
             ],
             [
              0.5555555555555556,
              "#d8576b"
             ],
             [
              0.6666666666666666,
              "#ed7953"
             ],
             [
              0.7777777777777778,
              "#fb9f3a"
             ],
             [
              0.8888888888888888,
              "#fdca26"
             ],
             [
              1,
              "#f0f921"
             ]
            ],
            "type": "histogram2dcontour"
           }
          ],
          "mesh3d": [
           {
            "colorbar": {
             "outlinewidth": 0,
             "ticks": ""
            },
            "type": "mesh3d"
           }
          ],
          "parcoords": [
           {
            "line": {
             "colorbar": {
              "outlinewidth": 0,
              "ticks": ""
             }
            },
            "type": "parcoords"
           }
          ],
          "pie": [
           {
            "automargin": true,
            "type": "pie"
           }
          ],
          "scatter": [
           {
            "fillpattern": {
             "fillmode": "overlay",
             "size": 10,
             "solidity": 0.2
            },
            "type": "scatter"
           }
          ],
          "scatter3d": [
           {
            "line": {
             "colorbar": {
              "outlinewidth": 0,
              "ticks": ""
             }
            },
            "marker": {
             "colorbar": {
              "outlinewidth": 0,
              "ticks": ""
             }
            },
            "type": "scatter3d"
           }
          ],
          "scattercarpet": [
           {
            "marker": {
             "colorbar": {
              "outlinewidth": 0,
              "ticks": ""
             }
            },
            "type": "scattercarpet"
           }
          ],
          "scattergeo": [
           {
            "marker": {
             "colorbar": {
              "outlinewidth": 0,
              "ticks": ""
             }
            },
            "type": "scattergeo"
           }
          ],
          "scattergl": [
           {
            "marker": {
             "colorbar": {
              "outlinewidth": 0,
              "ticks": ""
             }
            },
            "type": "scattergl"
           }
          ],
          "scattermapbox": [
           {
            "marker": {
             "colorbar": {
              "outlinewidth": 0,
              "ticks": ""
             }
            },
            "type": "scattermapbox"
           }
          ],
          "scatterpolar": [
           {
            "marker": {
             "colorbar": {
              "outlinewidth": 0,
              "ticks": ""
             }
            },
            "type": "scatterpolar"
           }
          ],
          "scatterpolargl": [
           {
            "marker": {
             "colorbar": {
              "outlinewidth": 0,
              "ticks": ""
             }
            },
            "type": "scatterpolargl"
           }
          ],
          "scatterternary": [
           {
            "marker": {
             "colorbar": {
              "outlinewidth": 0,
              "ticks": ""
             }
            },
            "type": "scatterternary"
           }
          ],
          "surface": [
           {
            "colorbar": {
             "outlinewidth": 0,
             "ticks": ""
            },
            "colorscale": [
             [
              0,
              "#0d0887"
             ],
             [
              0.1111111111111111,
              "#46039f"
             ],
             [
              0.2222222222222222,
              "#7201a8"
             ],
             [
              0.3333333333333333,
              "#9c179e"
             ],
             [
              0.4444444444444444,
              "#bd3786"
             ],
             [
              0.5555555555555556,
              "#d8576b"
             ],
             [
              0.6666666666666666,
              "#ed7953"
             ],
             [
              0.7777777777777778,
              "#fb9f3a"
             ],
             [
              0.8888888888888888,
              "#fdca26"
             ],
             [
              1,
              "#f0f921"
             ]
            ],
            "type": "surface"
           }
          ],
          "table": [
           {
            "cells": {
             "fill": {
              "color": "#EBF0F8"
             },
             "line": {
              "color": "white"
             }
            },
            "header": {
             "fill": {
              "color": "#C8D4E3"
             },
             "line": {
              "color": "white"
             }
            },
            "type": "table"
           }
          ]
         },
         "layout": {
          "annotationdefaults": {
           "arrowcolor": "#2a3f5f",
           "arrowhead": 0,
           "arrowwidth": 1
          },
          "autotypenumbers": "strict",
          "coloraxis": {
           "colorbar": {
            "outlinewidth": 0,
            "ticks": ""
           }
          },
          "colorscale": {
           "diverging": [
            [
             0,
             "#8e0152"
            ],
            [
             0.1,
             "#c51b7d"
            ],
            [
             0.2,
             "#de77ae"
            ],
            [
             0.3,
             "#f1b6da"
            ],
            [
             0.4,
             "#fde0ef"
            ],
            [
             0.5,
             "#f7f7f7"
            ],
            [
             0.6,
             "#e6f5d0"
            ],
            [
             0.7,
             "#b8e186"
            ],
            [
             0.8,
             "#7fbc41"
            ],
            [
             0.9,
             "#4d9221"
            ],
            [
             1,
             "#276419"
            ]
           ],
           "sequential": [
            [
             0,
             "#0d0887"
            ],
            [
             0.1111111111111111,
             "#46039f"
            ],
            [
             0.2222222222222222,
             "#7201a8"
            ],
            [
             0.3333333333333333,
             "#9c179e"
            ],
            [
             0.4444444444444444,
             "#bd3786"
            ],
            [
             0.5555555555555556,
             "#d8576b"
            ],
            [
             0.6666666666666666,
             "#ed7953"
            ],
            [
             0.7777777777777778,
             "#fb9f3a"
            ],
            [
             0.8888888888888888,
             "#fdca26"
            ],
            [
             1,
             "#f0f921"
            ]
           ],
           "sequentialminus": [
            [
             0,
             "#0d0887"
            ],
            [
             0.1111111111111111,
             "#46039f"
            ],
            [
             0.2222222222222222,
             "#7201a8"
            ],
            [
             0.3333333333333333,
             "#9c179e"
            ],
            [
             0.4444444444444444,
             "#bd3786"
            ],
            [
             0.5555555555555556,
             "#d8576b"
            ],
            [
             0.6666666666666666,
             "#ed7953"
            ],
            [
             0.7777777777777778,
             "#fb9f3a"
            ],
            [
             0.8888888888888888,
             "#fdca26"
            ],
            [
             1,
             "#f0f921"
            ]
           ]
          },
          "colorway": [
           "#636efa",
           "#EF553B",
           "#00cc96",
           "#ab63fa",
           "#FFA15A",
           "#19d3f3",
           "#FF6692",
           "#B6E880",
           "#FF97FF",
           "#FECB52"
          ],
          "font": {
           "color": "#2a3f5f"
          },
          "geo": {
           "bgcolor": "white",
           "lakecolor": "white",
           "landcolor": "#E5ECF6",
           "showlakes": true,
           "showland": true,
           "subunitcolor": "white"
          },
          "hoverlabel": {
           "align": "left"
          },
          "hovermode": "closest",
          "mapbox": {
           "style": "light"
          },
          "paper_bgcolor": "white",
          "plot_bgcolor": "#E5ECF6",
          "polar": {
           "angularaxis": {
            "gridcolor": "white",
            "linecolor": "white",
            "ticks": ""
           },
           "bgcolor": "#E5ECF6",
           "radialaxis": {
            "gridcolor": "white",
            "linecolor": "white",
            "ticks": ""
           }
          },
          "scene": {
           "xaxis": {
            "backgroundcolor": "#E5ECF6",
            "gridcolor": "white",
            "gridwidth": 2,
            "linecolor": "white",
            "showbackground": true,
            "ticks": "",
            "zerolinecolor": "white"
           },
           "yaxis": {
            "backgroundcolor": "#E5ECF6",
            "gridcolor": "white",
            "gridwidth": 2,
            "linecolor": "white",
            "showbackground": true,
            "ticks": "",
            "zerolinecolor": "white"
           },
           "zaxis": {
            "backgroundcolor": "#E5ECF6",
            "gridcolor": "white",
            "gridwidth": 2,
            "linecolor": "white",
            "showbackground": true,
            "ticks": "",
            "zerolinecolor": "white"
           }
          },
          "shapedefaults": {
           "line": {
            "color": "#2a3f5f"
           }
          },
          "ternary": {
           "aaxis": {
            "gridcolor": "white",
            "linecolor": "white",
            "ticks": ""
           },
           "baxis": {
            "gridcolor": "white",
            "linecolor": "white",
            "ticks": ""
           },
           "bgcolor": "#E5ECF6",
           "caxis": {
            "gridcolor": "white",
            "linecolor": "white",
            "ticks": ""
           }
          },
          "title": {
           "x": 0.05
          },
          "xaxis": {
           "automargin": true,
           "gridcolor": "white",
           "linecolor": "white",
           "ticks": "",
           "title": {
            "standoff": 15
           },
           "zerolinecolor": "white",
           "zerolinewidth": 2
          },
          "yaxis": {
           "automargin": true,
           "gridcolor": "white",
           "linecolor": "white",
           "ticks": "",
           "title": {
            "standoff": 15
           },
           "zerolinecolor": "white",
           "zerolinewidth": 2
          }
         }
        },
        "xaxis": {
         "anchor": "y",
         "domain": [
          0,
          1
         ],
         "title": {
          "text": "x"
         }
        },
        "yaxis": {
         "anchor": "x",
         "domain": [
          0,
          1
         ],
         "title": {
          "text": "y"
         }
        }
       }
      }
     },
     "metadata": {},
     "output_type": "display_data"
    }
   ],
   "source": [
    "import plotly.express as px\n",
    "import numpy as np\n",
    "import matplotlib.pyplot as plt\n",
    "import scipy.interpolate as si\n",
    "import torch\n",
    "\n",
    "# points = torch.array([[0, 0], [1, 2], [3, 1], [4, 5]])\n",
    "\n",
    "# sample = torch.linspace(-1, 5, 100)\n",
    "\n",
    "# Function to calculate the B-spline basis function\n",
    "def b_spline_basis(t, k, i, knots):\n",
    "    if k == 0:\n",
    "        return torch.where((knots[i] <= t) & (t < knots[i + 1]), 1.0, 0.0)\n",
    "    else:\n",
    "        denom1 = knots[i + k] - knots[i]\n",
    "        denom2 = knots[i + k + 1] - knots[i + 1]\n",
    "        \n",
    "        term1 = ((t - knots[i]) / denom1) * b_spline_basis(t, k - 1, i, knots) if denom1 != 0 else 0.0\n",
    "        term2 = ((knots[i + k + 1] - t) / denom2) * b_spline_basis(t, k - 1, i + 1, knots) if denom2 != 0 else 0.0\n",
    "        \n",
    "        return term1 + term2\n",
    "\n",
    "# Define non-uniformly spaced x-values and corresponding y-values for control points\n",
    "x_control = torch.tensor([-3, -1, 0, 2, 4, 5, 7], dtype=torch.float32)\n",
    "y_control = torch.tensor([0, 2, -2, -3, -1, 0, 5], dtype=torch.float32)\n",
    "\n",
    "# Degree of the B-spline\n",
    "degree = 3\n",
    "\n",
    "# Number of control points\n",
    "num_control_points = len(x_control)\n",
    "\n",
    "# Knot vector (adjusted to match the x-values range)\n",
    "knot_vector = torch.cat((\n",
    "    torch.full((degree,), x_control[0]),\n",
    "    x_control,\n",
    "    torch.full((degree,), x_control[-1])\n",
    "))\n",
    "\n",
    "# Function to evaluate the B-spline at a given x-value\n",
    "def evaluate_b_spline(x):\n",
    "    y = torch.zeros_like(x)\n",
    "    for i in range(num_control_points):\n",
    "        y += y_control[i] * b_spline_basis(x, degree, i, knot_vector)\n",
    "    return y\n",
    "\n",
    "# Evaluate the B-spline at a new point\n",
    "new_point = torch.arange(x_control.min()-1, x_control.max()+1, .2, dtype=torch.float32)\n",
    "value_at_new_point = evaluate_b_spline(new_point)\n",
    "\n",
    "# print(f\"The value of the B-spline at x = {new_point.item()} is: {value_at_new_point.item()}\")\n",
    "\n",
    "fig = px.line(x=new_point, y=value_at_new_point)\n",
    "fig.add_scatter(x=x_control, y=y_control, mode='markers+lines')\n",
    "\n",
    "fig.show()"
   ]
  },
  {
   "cell_type": "code",
   "execution_count": 27,
   "metadata": {},
   "outputs": [
    {
     "data": {
      "image/png": "[encoded data removed]",
      "text/plain": [
       "<Figure size 640x480 with 1 Axes>"
      ]
     },
     "metadata": {},
     "output_type": "display_data"
    },
    {
     "name": "stdout",
     "output_type": "stream",
     "text": [
      "The value of the B-spline at x = 10 is: 9.5\n"
     ]
    }
   ],
   "source": [
    "import torch\n",
    "import matplotlib.pyplot as plt\n",
    "\n",
    "# Define non-uniformly spaced x-values and corresponding y-values for control points\n",
    "x_control = torch.tensor([-3, -1, 0, 2, 4, 5, 7], dtype=torch.float32)\n",
    "y_control = torch.tensor([0, 1, 4, 6, 5, 7, 8], dtype=torch.float32)\n",
    "\n",
    "# Degree of the B-spline\n",
    "degree = 2\n",
    "\n",
    "# Number of control points\n",
    "num_control_points = len(x_control)\n",
    "\n",
    "# Knot vector (adjusted for non-uniform spacing and degree)\n",
    "knot_vector = torch.cat((\n",
    "    torch.full((degree,), x_control[0]),\n",
    "    x_control,\n",
    "    torch.full((degree,), x_control[-1] + (x_control[-1] - x_control[-2]))\n",
    "))\n",
    "\n",
    "# Function to calculate the B-spline basis function\n",
    "def b_spline_basis(t, k, i, knots):\n",
    "    if k == 0:\n",
    "        return torch.where((knots[i] <= t) & (t < knots[i + 1]), 1.0, 0.0)\n",
    "    else:\n",
    "        denom1 = knots[i + k] - knots[i]\n",
    "        denom2 = knots[i + k + 1] - knots[i + 1]\n",
    "        \n",
    "        term1 = ((t - knots[i]) / denom1) * b_spline_basis(t, k - 1, i, knots) if denom1 != 0 else 0.0\n",
    "        term2 = ((knots[i + k + 1] - t) / denom2) * b_spline_basis(t, k - 1, i + 1, knots) if denom2 != 0 else 0.0\n",
    "        \n",
    "        return term1 + term2\n",
    "\n",
    "# B-spline evaluation function\n",
    "def evaluate_b_spline(x):\n",
    "    y = torch.zeros_like(x)\n",
    "    for i in range(num_control_points):\n",
    "        y += y_control[i] * b_spline_basis(x, degree, i, knot_vector)\n",
    "    return y\n",
    "\n",
    "# Linear extrapolation function\n",
    "def linear_extrapolation(x, x1, y1, x2, y2):\n",
    "    slope = (y2 - y1) / (x2 - x1)\n",
    "    return y1 + slope * (x - x1)\n",
    "\n",
    "# Plot the control points\n",
    "plt.scatter(x_control, y_control, color='red', label='Control Points')\n",
    "\n",
    "# Plot the B-spline curve\n",
    "x_values = torch.linspace(x_control[0], x_control[-1] + 5, 200)\n",
    "y_values = evaluate_b_spline(x_values)\n",
    "\n",
    "plt.plot(x_values.numpy(), y_values.numpy(), label='B-Spline Curve')\n",
    "\n",
    "# Extrapolate beyond the control points\n",
    "x_extrapolate = torch.linspace(x_control[-1], x_control[-1] + 5, 50)\n",
    "y_extrapolate = linear_extrapolation(x_extrapolate, x_control[-2], y_control[-2], x_control[-1], y_control[-1])\n",
    "\n",
    "plt.plot(x_extrapolate.numpy(), y_extrapolate.numpy(), 'g--', label='Linear Extrapolation')\n",
    "plt.xlabel('X')\n",
    "plt.ylabel('Y')\n",
    "plt.legend()\n",
    "plt.title('B-Spline Curve with Linear Extrapolation')\n",
    "plt.grid(True)\n",
    "plt.show()\n",
    "\n",
    "# Evaluate B-spline and extrapolation at a specific point\n",
    "specific_point = 10\n",
    "value_at_specific_point = evaluate_b_spline(torch.tensor(specific_point, dtype=torch.float32))\n",
    "if specific_point > x_control[-1]:\n",
    "    value_at_specific_point = linear_extrapolation(torch.tensor(specific_point, dtype=torch.float32), x_control[-2], y_control[-2], x_control[-1], y_control[-1])\n",
    "print(f\"The value of the B-spline at x = {specific_point} is: {value_at_specific_point.item()}\")\n"
   ]
  }
 ],
 "metadata": {
  "kernelspec": {
   "display_name": "vmp",
   "language": "python",
   "name": "python3"
  },
  "language_info": {
   "codemirror_mode": {
    "name": "ipython",
    "version": 3
   },
   "file_extension": ".py",
   "mimetype": "text/x-python",
   "name": "python",
   "nbconvert_exporter": "python",
   "pygments_lexer": "ipython3",
   "version": "3.8.19"
  }
 },
 "nbformat": 4,
 "nbformat_minor": 2
}
